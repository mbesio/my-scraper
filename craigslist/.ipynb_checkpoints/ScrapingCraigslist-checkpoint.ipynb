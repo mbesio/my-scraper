{
 "cells": [
  {
   "cell_type": "code",
   "execution_count": 1,
   "metadata": {},
   "outputs": [],
   "source": [
    "#https://towardsdatascience.com/web-scraping-craigslist-a-complete-tutorial-c41cea4f4981\n",
    "#Importing all of the required packages\n",
    "from requests import get\n",
    "from bs4 import BeautifulSoup as soup\n",
    "import numpy as np\n",
    "from time import sleep\n",
    "import re\n",
    "from random import randint #avoid throttling by not sending too many requests one after the other\n",
    "from warnings import warn\n",
    "from time import time\n",
    "import pandas as pd"
   ]
  },
  {
   "cell_type": "code",
   "execution_count": 2,
   "metadata": {},
   "outputs": [],
   "source": [
    "#Url that we want to scrape\n",
    "url = \"https://sfbay.craigslist.org/search/sfc/apa?hasPic=1\""
   ]
  },
  {
   "cell_type": "code",
   "execution_count": 3,
   "metadata": {},
   "outputs": [],
   "source": [
    "response = get(url)\n",
    "page_soup = soup(response.text, \"html.parser\")\n",
    "\n",
    "#get the html container of the housing posts\n",
    "posts = page_soup.find_all('li', class_= 'result-row')"
   ]
  },
  {
   "cell_type": "code",
   "execution_count": 4,
   "metadata": {},
   "outputs": [
    {
     "data": {
      "text/plain": [
       "'nob hill'"
      ]
     },
     "execution_count": 4,
     "metadata": {},
     "output_type": "execute_result"
    }
   ],
   "source": [
    "#1. Let's get the neighbourhood\n",
    "hood = posts[0].find('span', class_ = 'result-hood')\n",
    "hood.text.strip().replace('(','').replace(')','')"
   ]
  },
  {
   "cell_type": "code",
   "execution_count": 5,
   "metadata": {},
   "outputs": [
    {
     "data": {
      "text/plain": [
       "'$4200'"
      ]
     },
     "execution_count": 5,
     "metadata": {},
     "output_type": "execute_result"
    }
   ],
   "source": [
    "#2. Let's get the price\n",
    "price = posts[0].find('span', class_ = 'result-price')\n",
    "price.text"
   ]
  },
  {
   "cell_type": "code",
   "execution_count": 6,
   "metadata": {},
   "outputs": [
    {
     "name": "stdout",
     "output_type": "stream",
     "text": [
      "1br \n"
     ]
    }
   ],
   "source": [
    "#3. and 4. Let's get bedrooms  and sqft\n",
    "bedding = posts[0].find('span', class_ = 'housing')\n",
    "\n",
    "\n",
    "if bedding is None:\n",
    "    number_bedroom = ''\n",
    "    sqft = ''\n",
    "else:\n",
    "    test = bedding.text.strip().split(\" \")\n",
    "    testlist = ' '.join(test).split()\n",
    "    \n",
    "    if len(testlist) == 4:\n",
    "        number_bedroom = testlist[0]\n",
    "        sqft = testlist[2]\n",
    "    \n",
    "    elif testlist[0][-2:] == 'br':\n",
    "        number_bedroom = testlist[0]\n",
    "        sqft = ''\n",
    "    \n",
    "    elif testlist[0][-3:] == 'ft2':\n",
    "        number_bedroom = ''\n",
    "        sqft = testlist[0]\n",
    "            \n",
    "print(number_bedroom, sqft)"
   ]
  },
  {
   "cell_type": "code",
   "execution_count": 8,
   "metadata": {},
   "outputs": [
    {
     "data": {
      "text/plain": [
       "'2019-04-26 14:56'"
      ]
     },
     "execution_count": 8,
     "metadata": {},
     "output_type": "execute_result"
    }
   ],
   "source": [
    "#5. Let's get the date and time of the post\n",
    "datetime = posts[0].find('time', class_= 'result-date')['datetime']\n",
    "datetime"
   ]
  },
  {
   "cell_type": "code",
   "execution_count": 11,
   "metadata": {},
   "outputs": [
    {
     "data": {
      "text/plain": [
       "'Furnished 1BR Apartment | 50 Joice Street | Nob Hill'"
      ]
     },
     "execution_count": 11,
     "metadata": {},
     "output_type": "execute_result"
    }
   ],
   "source": [
    "#6. Let's get the title of the post\n",
    "post_title = posts[0].find('a', class_='result-title hdrlnk').text\n",
    "post_title"
   ]
  },
  {
   "cell_type": "code",
   "execution_count": 12,
   "metadata": {},
   "outputs": [
    {
     "data": {
      "text/plain": [
       "'https://sfbay.craigslist.org/sfc/apa/d/san-francisco-furnished-1br-apartment/6875599248.html'"
      ]
     },
     "execution_count": 12,
     "metadata": {},
     "output_type": "execute_result"
    }
   ],
   "source": [
    "#7. Get the links to the posts\n",
    "post_link = posts[0].find('a', class_='result-title hdrlnk')['href']\n",
    "post_link"
   ]
  },
  {
   "cell_type": "code",
   "execution_count": 13,
   "metadata": {},
   "outputs": [
    {
     "data": {
      "text/plain": [
       "array([   0,  120,  240,  360,  480,  600,  720,  840,  960, 1080, 1200,\n",
       "       1320, 1440, 1560, 1680, 1800, 1920, 2040, 2160, 2280, 2400, 2520,\n",
       "       2640, 2760, 2880, 3000])"
      ]
     },
     "execution_count": 13,
     "metadata": {},
     "output_type": "execute_result"
    }
   ],
   "source": [
    "#Build the loop on all the listings and on all the pages\n",
    "results_num = page_soup.find('div', class_= 'search-legend')\n",
    "results_total = int(results_num.find('span', class_='totalcount').text)\n",
    "pages = np.arange(0, results_total+1, 120)\n",
    "pages"
   ]
  },
  {
   "cell_type": "code",
   "execution_count": 14,
   "metadata": {},
   "outputs": [],
   "source": [
    "#initializing some of the arrays we will need once we loop\n",
    "iterations = 0\n",
    "\n",
    "post_timing = []\n",
    "post_hoods = []\n",
    "post_title_texts = []\n",
    "bedroom_counts = []\n",
    "sqfts = []\n",
    "post_links = []\n",
    "post_prices = []"
   ]
  },
  {
   "cell_type": "code",
   "execution_count": 15,
   "metadata": {},
   "outputs": [
    {
     "name": "stdout",
     "output_type": "stream",
     "text": [
      "Page 1 scraped\n",
      "Page 2 scraped\n",
      "Page 3 scraped\n",
      "Page 4 scraped\n",
      "Page 5 scraped\n",
      "Page 6 scraped\n",
      "Page 7 scraped\n",
      "Page 8 scraped\n",
      "Page 9 scraped\n",
      "Page 10 scraped\n",
      "Page 11 scraped\n",
      "Page 12 scraped\n",
      "Page 13 scraped\n",
      "Page 14 scraped\n",
      "Page 15 scraped\n",
      "Page 16 scraped\n",
      "Page 17 scraped\n",
      "Page 18 scraped\n",
      "Page 19 scraped\n",
      "Page 20 scraped\n",
      "Page 21 scraped\n",
      "Page 22 scraped\n",
      "Page 23 scraped\n",
      "Page 24 scraped\n",
      "Page 25 scraped\n",
      "Page 26 scraped\n",
      "\n",
      "\n",
      "All scraped\n"
     ]
    }
   ],
   "source": [
    "for page in pages:\n",
    "\n",
    "    #get requests\n",
    "    response = get(\"https://sfbay.craigslist.org/search/sfc/apa?\"\n",
    "                   + \"s=\" #the parameter for defining the page number\n",
    "                   + str(page) #the page number in the pages array from earlier\n",
    "                   + \"&hasPic=1\")\n",
    "\n",
    "\n",
    "    sleep(randint(1,5))\n",
    "\n",
    "    #throw warning for status codes that are not 200\n",
    "    if response.status_code != 200:\n",
    "        warn('Request: {}; Status code: {}'.format(requests, response.status_code))\n",
    "\n",
    "    #define the html text\n",
    "    page_html = soup(response.text, 'html.parser')\n",
    "\n",
    "    #define the posts\n",
    "    posts = page_html.find_all('li', class_= 'result-row')\n",
    "\n",
    "    for post in posts:\n",
    "        if post.find('span', class_ = 'result-hood') is not None:\n",
    "            #posting date\n",
    "            #grab the datetime element 0 for date and 1 for time\n",
    "            post_datetime = post.find('time', class_= 'result-date')['datetime']\n",
    "            post_timing.append(post_datetime)\n",
    "\n",
    "            #neighborhoods\n",
    "            post_hood = post.find('span', class_= 'result-hood').text\n",
    "            post_hoods.append(post_hood)\n",
    "\n",
    "            #title text\n",
    "            post_title = post.find('a', class_='result-title hdrlnk')\n",
    "            post_title_text = post_title.text\n",
    "            post_title_texts.append(post_title_text)\n",
    "\n",
    "            #post link\n",
    "            post_link = post_title['href']\n",
    "            post_links.append(post_link)\n",
    "\n",
    "            #removes the \\n whitespace from each side, removes the currency symbol, and turns it into an int\n",
    "            post_price = int(post.a.text.strip().replace(\"$\", \"\"))\n",
    "            post_prices.append(post_price)\n",
    "\n",
    "            \n",
    "            bedding = post.find('span', class_ = 'housing')\n",
    "            if bedding is None:\n",
    "                number_bedroom = ''\n",
    "                sqft = ''\n",
    "                bedroom_counts.append(number_bedroom)\n",
    "                sqfts.append(sqft)\n",
    "                \n",
    "            else:\n",
    "                test = bedding.text.strip().split(\" \")\n",
    "                testlist = ' '.join(test).split()\n",
    "                \n",
    "                if len(testlist) == 4:\n",
    "                    number_bedroom = testlist[0]\n",
    "                    sqft = testlist[2]\n",
    "                    bedroom_counts.append(number_bedroom)\n",
    "                    sqfts.append(sqft)\n",
    "                \n",
    "                elif testlist[0][-2:] == 'br':\n",
    "                    number_bedroom = testlist[0]\n",
    "                    sqft = ''\n",
    "                    bedroom_counts.append(number_bedroom)\n",
    "                    sqfts.append(sqft)\n",
    "                    \n",
    "                elif testlist[0][-3:] == 'ft2':\n",
    "                    number_bedroom = ''\n",
    "                    sqft = testlist[0]\n",
    "                    bedroom_counts.append(number_bedroom)\n",
    "                    sqfts.append(sqft)\n",
    "\n",
    "\n",
    "    iterations += 1\n",
    "    print(\"Page \" + str(iterations) + \" scraped\")\n",
    "\n",
    "print(\"\\n\")\n",
    "print(\"All scraped\")"
   ]
  },
  {
   "cell_type": "code",
   "execution_count": 19,
   "metadata": {},
   "outputs": [],
   "source": [
    "sf_apts = pd.DataFrame({'posted': post_timing,\n",
    "                       'neighborhood': post_hoods,\n",
    "                       'post title': post_title_texts,\n",
    "                       'number bedrooms': bedroom_counts,\n",
    "                        'sqft': sqfts,\n",
    "                        'URL': post_links,\n",
    "                       'price': post_prices})"
   ]
  },
  {
   "cell_type": "code",
   "execution_count": 20,
   "metadata": {},
   "outputs": [
    {
     "name": "stdout",
     "output_type": "stream",
     "text": [
      "<class 'pandas.core.frame.DataFrame'>\n",
      "RangeIndex: 2956 entries, 0 to 2955\n",
      "Data columns (total 7 columns):\n",
      "posted             2956 non-null object\n",
      "neighborhood       2956 non-null object\n",
      "post title         2956 non-null object\n",
      "number bedrooms    2956 non-null object\n",
      "sqft               2956 non-null object\n",
      "URL                2956 non-null object\n",
      "price              2956 non-null int64\n",
      "dtypes: int64(1), object(6)\n",
      "memory usage: 161.7+ KB\n",
      "None\n"
     ]
    },
    {
     "data": {
      "text/html": [
       "<div>\n",
       "<style scoped>\n",
       "    .dataframe tbody tr th:only-of-type {\n",
       "        vertical-align: middle;\n",
       "    }\n",
       "\n",
       "    .dataframe tbody tr th {\n",
       "        vertical-align: top;\n",
       "    }\n",
       "\n",
       "    .dataframe thead th {\n",
       "        text-align: right;\n",
       "    }\n",
       "</style>\n",
       "<table border=\"1\" class=\"dataframe\">\n",
       "  <thead>\n",
       "    <tr style=\"text-align: right;\">\n",
       "      <th></th>\n",
       "      <th>posted</th>\n",
       "      <th>neighborhood</th>\n",
       "      <th>post title</th>\n",
       "      <th>number bedrooms</th>\n",
       "      <th>sqft</th>\n",
       "      <th>URL</th>\n",
       "      <th>price</th>\n",
       "    </tr>\n",
       "  </thead>\n",
       "  <tbody>\n",
       "    <tr>\n",
       "      <th>0</th>\n",
       "      <td>2019-04-26 14:42</td>\n",
       "      <td>(mission district)</td>\n",
       "      <td>Mission Dolores Park Views/240 Cumberland/W/D ...</td>\n",
       "      <td>1br</td>\n",
       "      <td></td>\n",
       "      <td>https://sfbay.craigslist.org/sfc/apa/d/san-fra...</td>\n",
       "      <td>4195</td>\n",
       "    </tr>\n",
       "    <tr>\n",
       "      <th>1</th>\n",
       "      <td>2019-04-26 14:41</td>\n",
       "      <td>(marina / cow hollow)</td>\n",
       "      <td>OPEN SUN 2:30PM-3:15PM  3BR/2BA Quiet House w/...</td>\n",
       "      <td>3br</td>\n",
       "      <td></td>\n",
       "      <td>https://sfbay.craigslist.org/sfc/apa/d/san-fra...</td>\n",
       "      <td>5795</td>\n",
       "    </tr>\n",
       "    <tr>\n",
       "      <th>2</th>\n",
       "      <td>2019-04-26 14:41</td>\n",
       "      <td>(laurel hts / presidio)</td>\n",
       "      <td>2 bedroom beach apartment overlooking Baker Beach</td>\n",
       "      <td>2br</td>\n",
       "      <td>1200ft2</td>\n",
       "      <td>https://sfbay.craigslist.org/sfc/apa/d/san-fra...</td>\n",
       "      <td>3790</td>\n",
       "    </tr>\n",
       "    <tr>\n",
       "      <th>3</th>\n",
       "      <td>2019-04-26 14:40</td>\n",
       "      <td>(inner sunset / UCSF)</td>\n",
       "      <td>Inner sunset/1290 20thAve.&amp;Irving/Available Now!!</td>\n",
       "      <td>1br</td>\n",
       "      <td>547ft2</td>\n",
       "      <td>https://sfbay.craigslist.org/sfc/apa/d/san-fra...</td>\n",
       "      <td>3095</td>\n",
       "    </tr>\n",
       "    <tr>\n",
       "      <th>4</th>\n",
       "      <td>2019-04-26 14:40</td>\n",
       "      <td>(russian hill)</td>\n",
       "      <td>Russian Hill | 2129 Hyde Street | Furnished 2B...</td>\n",
       "      <td>2br</td>\n",
       "      <td></td>\n",
       "      <td>https://sfbay.craigslist.org/sfc/apa/d/san-fra...</td>\n",
       "      <td>6500</td>\n",
       "    </tr>\n",
       "    <tr>\n",
       "      <th>5</th>\n",
       "      <td>2019-04-26 14:39</td>\n",
       "      <td>(SOMA / south beach)</td>\n",
       "      <td>3 Month Furnished 1BR, 2BA SOMA LOFT Available...</td>\n",
       "      <td>1br</td>\n",
       "      <td>906ft2</td>\n",
       "      <td>https://sfbay.craigslist.org/sfc/apa/d/san-fra...</td>\n",
       "      <td>3900</td>\n",
       "    </tr>\n",
       "    <tr>\n",
       "      <th>6</th>\n",
       "      <td>2019-04-26 14:38</td>\n",
       "      <td>(mission district)</td>\n",
       "      <td>Mission Dolores Park/3875 18th&amp;Sanchez/Muni/Av...</td>\n",
       "      <td>2br</td>\n",
       "      <td></td>\n",
       "      <td>https://sfbay.craigslist.org/sfc/apa/d/san-fra...</td>\n",
       "      <td>3895</td>\n",
       "    </tr>\n",
       "    <tr>\n",
       "      <th>7</th>\n",
       "      <td>2019-04-26 14:37</td>\n",
       "      <td>(downtown / civic / van ness)</td>\n",
       "      <td>Downtown/1050 Post&amp;Polk/Remodeled/Available Now!!</td>\n",
       "      <td>1br</td>\n",
       "      <td></td>\n",
       "      <td>https://sfbay.craigslist.org/sfc/apa/d/san-fra...</td>\n",
       "      <td>2795</td>\n",
       "    </tr>\n",
       "    <tr>\n",
       "      <th>8</th>\n",
       "      <td>2019-04-26 14:35</td>\n",
       "      <td>(russian hill)</td>\n",
       "      <td>Russian Hill | 2123 Hyde Street | Furnished 3B...</td>\n",
       "      <td>3br</td>\n",
       "      <td></td>\n",
       "      <td>https://sfbay.craigslist.org/sfc/apa/d/san-fra...</td>\n",
       "      <td>9500</td>\n",
       "    </tr>\n",
       "    <tr>\n",
       "      <th>9</th>\n",
       "      <td>2019-04-26 14:35</td>\n",
       "      <td>(SOMA / south beach)</td>\n",
       "      <td>Electric Car Charging Stations, Washer and dry...</td>\n",
       "      <td>1br</td>\n",
       "      <td></td>\n",
       "      <td>https://sfbay.craigslist.org/sfc/apa/d/san-fra...</td>\n",
       "      <td>3685</td>\n",
       "    </tr>\n",
       "  </tbody>\n",
       "</table>\n",
       "</div>"
      ],
      "text/plain": [
       "             posted                    neighborhood  \\\n",
       "0  2019-04-26 14:42              (mission district)   \n",
       "1  2019-04-26 14:41           (marina / cow hollow)   \n",
       "2  2019-04-26 14:41         (laurel hts / presidio)   \n",
       "3  2019-04-26 14:40           (inner sunset / UCSF)   \n",
       "4  2019-04-26 14:40                  (russian hill)   \n",
       "5  2019-04-26 14:39            (SOMA / south beach)   \n",
       "6  2019-04-26 14:38              (mission district)   \n",
       "7  2019-04-26 14:37   (downtown / civic / van ness)   \n",
       "8  2019-04-26 14:35                  (russian hill)   \n",
       "9  2019-04-26 14:35            (SOMA / south beach)   \n",
       "\n",
       "                                          post title number bedrooms     sqft  \\\n",
       "0  Mission Dolores Park Views/240 Cumberland/W/D ...             1br            \n",
       "1  OPEN SUN 2:30PM-3:15PM  3BR/2BA Quiet House w/...             3br            \n",
       "2  2 bedroom beach apartment overlooking Baker Beach             2br  1200ft2   \n",
       "3  Inner sunset/1290 20thAve.&Irving/Available Now!!             1br   547ft2   \n",
       "4  Russian Hill | 2129 Hyde Street | Furnished 2B...             2br            \n",
       "5  3 Month Furnished 1BR, 2BA SOMA LOFT Available...             1br   906ft2   \n",
       "6  Mission Dolores Park/3875 18th&Sanchez/Muni/Av...             2br            \n",
       "7  Downtown/1050 Post&Polk/Remodeled/Available Now!!             1br            \n",
       "8  Russian Hill | 2123 Hyde Street | Furnished 3B...             3br            \n",
       "9  Electric Car Charging Stations, Washer and dry...             1br            \n",
       "\n",
       "                                                 URL  price  \n",
       "0  https://sfbay.craigslist.org/sfc/apa/d/san-fra...   4195  \n",
       "1  https://sfbay.craigslist.org/sfc/apa/d/san-fra...   5795  \n",
       "2  https://sfbay.craigslist.org/sfc/apa/d/san-fra...   3790  \n",
       "3  https://sfbay.craigslist.org/sfc/apa/d/san-fra...   3095  \n",
       "4  https://sfbay.craigslist.org/sfc/apa/d/san-fra...   6500  \n",
       "5  https://sfbay.craigslist.org/sfc/apa/d/san-fra...   3900  \n",
       "6  https://sfbay.craigslist.org/sfc/apa/d/san-fra...   3895  \n",
       "7  https://sfbay.craigslist.org/sfc/apa/d/san-fra...   2795  \n",
       "8  https://sfbay.craigslist.org/sfc/apa/d/san-fra...   9500  \n",
       "9  https://sfbay.craigslist.org/sfc/apa/d/san-fra...   3685  "
      ]
     },
     "execution_count": 20,
     "metadata": {},
     "output_type": "execute_result"
    }
   ],
   "source": [
    "print(sf_apts.info())\n",
    "sf_apts.head(10)"
   ]
  },
  {
   "cell_type": "code",
   "execution_count": 56,
   "metadata": {},
   "outputs": [
    {
     "data": {
      "text/plain": [
       "'3 New Asian Calligraphy Brushes Bamboo with natural bristles'"
      ]
     },
     "execution_count": 56,
     "metadata": {},
     "output_type": "execute_result"
    }
   ],
   "source": [
    "sf_apts.to_csv('sfapts.csv', sep=',', encoding='utf-8')"
   ]
  },
  {
   "cell_type": "code",
   "execution_count": 23,
   "metadata": {},
   "outputs": [],
   "source": []
  },
  {
   "cell_type": "code",
   "execution_count": null,
   "metadata": {},
   "outputs": [],
   "source": []
  }
 ],
 "metadata": {
  "kernelspec": {
   "display_name": "Python [conda env:Anaconda3]",
   "language": "python",
   "name": "conda-env-Anaconda3-py"
  },
  "language_info": {
   "codemirror_mode": {
    "name": "ipython",
    "version": 3
   },
   "file_extension": ".py",
   "mimetype": "text/x-python",
   "name": "python",
   "nbconvert_exporter": "python",
   "pygments_lexer": "ipython3",
   "version": "3.6.6"
  }
 },
 "nbformat": 4,
 "nbformat_minor": 2
}
